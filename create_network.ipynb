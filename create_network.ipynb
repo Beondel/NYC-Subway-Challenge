{
 "cells": [
  {
   "cell_type": "code",
   "execution_count": 1,
   "metadata": {},
   "outputs": [],
   "source": [
    "import pandas as pd\n",
    "import matplotlib.pyplot as plt\n",
    "import datetime"
   ]
  },
  {
   "cell_type": "code",
   "execution_count": 2,
   "metadata": {},
   "outputs": [],
   "source": [
    "class Node:\n",
    "    def __init__(self,lon,lat,id,neighbors,name):\n",
    "        self.lon = lon\n",
    "        self.lat = lat\n",
    "        self.id = id\n",
    "        self.neighbors = neighbors\n",
    "        self.name = name    "
   ]
  },
  {
   "cell_type": "code",
   "execution_count": 3,
   "metadata": {},
   "outputs": [
    {
     "data": {
      "text/plain": [
       "'AFA22GEN-1091-Weekday-00_000650_1..S03R,00:09:30,00:09:30,104S,3,,0,0,\\n'"
      ]
     },
     "execution_count": 3,
     "metadata": {},
     "output_type": "execute_result"
    }
   ],
   "source": [
    "filename = \"google_transit/stop_times.txt\"\n",
    "\n",
    "f = open(filename, 'r')\n",
    "\n",
    "full_list = []\n",
    "\n",
    "for line in f:\n",
    "    trip_id = line.split(',')[0].split('-')\n",
    "\n",
    "    if 'Weekday' in trip_id:\n",
    "        full_list.append(line)\n",
    "\n",
    "full_list = full_list[1:]\n",
    "\n",
    "full_list[1]"
   ]
  },
  {
   "cell_type": "code",
   "execution_count": 4,
   "metadata": {},
   "outputs": [],
   "source": [
    "full_list[0].split(\",\")\n",
    "stop_list = []\n",
    "time_list = []\n",
    "current_trip_id = \"\"\n",
    "\n",
    "\n",
    "for i in range(len(full_list)):\n",
    "    split_list = full_list[i].split(\",\")\n",
    "\n",
    "    stop_name = split_list[3]\n",
    "    stop_list.append(stop_name[0:3])\n",
    "\n",
    "    stop_time = split_list[1]\n",
    "    time_list.append(stop_time)\n",
    "\n",
    "ustop_list = set(stop_list)\n",
    "utime_list = set(time_list)\n",
    "\n",
    "for i in range(len(full_list)):\n",
    "    split_list = full_list[i].split(\",\")\n",
    "    trip_id = split_list[0]\n",
    "\n",
    "    #if trip_id == current_trip_id:\n",
    "\n"
   ]
  },
  {
   "cell_type": "code",
   "execution_count": 31,
   "metadata": {},
   "outputs": [],
   "source": [
    "station_dict = {}\n",
    "station_ids = []\n",
    "\n",
    "for time in utime_list:\n",
    "    for stop in ustop_list:\n",
    "        station_ids.append(time+\"-\"+stop)\n",
    "\n",
    "        h,m,s = time.split(':')\n",
    "        s = int(h)*3600+int(m)*60+int(s)\n",
    "        p = str(datetime.timedelta(seconds=s+30))\n",
    "\n",
    "        if s >= 86370:\n",
    "            fut_self = str(datetime.timedelta(seconds=s)) + \"-\" + stop\n",
    "        else:\n",
    "            fut_self = p + \"-\" + stop\n",
    "\n",
    "        station_dict[time+\"-\"+stop] = [fut_self]\n",
    "\n",
    "current_trip_id = \"AFA22GEN-1037-Sunday-00_000600_1..S03R\"\n",
    "\n",
    "for i in range(len(full_list)-1):\n",
    "#for i in range(50):\n",
    "    split_list = full_list[i].split(\",\")\n",
    "    fut_split_list = full_list[i+1].split(\",\")\n",
    "\n",
    "    trip_id = split_list[0]\n",
    "    stop_name = split_list[3][0:3]\n",
    "    stop_time = split_list[1]\n",
    "\n",
    "    station_id = stop_time + \"-\" + stop_name\n",
    "\n",
    "    fut_trip_id = fut_split_list[0]\n",
    "    fut_stop_name = fut_split_list[3][0:3]\n",
    "    fut_stop_time = fut_split_list[1] \n",
    "\n",
    "    fut_station_id = fut_stop_time + \"-\" + fut_stop_name\n",
    "\n",
    "    #print(trip_id)\n",
    "\n",
    "    if trip_id != current_trip_id:\n",
    "        current_trip_id = trip_id\n",
    "\n",
    "    if trip_id == current_trip_id and fut_trip_id == current_trip_id:\n",
    "        station_dict[station_id].append(fut_station_id)\n",
    "        #print(fut_station_id)\n",
    "\n",
    "    #fut_self = p + \"-\" + stop_name\n",
    "    #station_dict[station_id].append(fut_self)\n",
    "\n",
    "for key in station_dict:\n",
    "    station_dict[key] = set(station_dict[key])"
   ]
  },
  {
   "cell_type": "code",
   "execution_count": 32,
   "metadata": {},
   "outputs": [],
   "source": [
    "filename = \"google_transit/stops.txt\"\n",
    "\n",
    "f = open(filename, 'r')\n",
    "\n",
    "lonlat_dict = {}\n",
    "name_dict = {}\n",
    "\n",
    "for line in f:\n",
    "    split_line = line.split(\",\")\n",
    "\n",
    "    lonlat_dict[split_line[0][0:3]] = (split_line[4], split_line[5])\n",
    "    name_dict[split_line[0][0:3]] = split_line[2]\n"
   ]
  },
  {
   "cell_type": "code",
   "execution_count": 33,
   "metadata": {},
   "outputs": [],
   "source": [
    "node_dict = {}\n",
    "\n",
    "for key in station_dict:\n",
    "    lonlat = lonlat_dict[key[-3:]]\n",
    "    temp_node = Node(lonlat[0],lonlat[1],key,\n",
    "        list(station_dict[key]),name_dict[key[-3:]])\n",
    "    node_dict[key] = temp_node"
   ]
  },
  {
   "cell_type": "code",
   "execution_count": 34,
   "metadata": {},
   "outputs": [
    {
     "data": {
      "text/plain": [
       "'14 St-Union Sq'"
      ]
     },
     "execution_count": 34,
     "metadata": {},
     "output_type": "execute_result"
    }
   ],
   "source": [
    "node_dict['13:59:00-R20'].name"
   ]
  },
  {
   "cell_type": "code",
   "execution_count": 35,
   "metadata": {},
   "outputs": [
    {
     "name": "stdout",
     "output_type": "stream",
     "text": [
      "14:40:30-135\n",
      "14:40:30-D20\n",
      "14:40:30-A24\n",
      "09:33:30-123\n"
     ]
    }
   ],
   "source": [
    "max_conn = 0\n",
    "for key in station_dict:\n",
    "    l = len(station_dict[key])\n",
    "    if l > max_conn:\n",
    "        max_conn = l\n",
    "        print(key)"
   ]
  },
  {
   "cell_type": "code",
   "execution_count": 38,
   "metadata": {},
   "outputs": [
    {
     "data": {
      "text/plain": [
       "{'09:35:00-124', '09:35:30-122', '09:36:30-120', '09:38:00-127', '9:34:00-123'}"
      ]
     },
     "execution_count": 38,
     "metadata": {},
     "output_type": "execute_result"
    }
   ],
   "source": [
    "station_dict[\"09:33:30-123\"]"
   ]
  },
  {
   "cell_type": "code",
   "execution_count": 42,
   "metadata": {},
   "outputs": [
    {
     "name": "stdout",
     "output_type": "stream",
     "text": [
      "09:33:30-123\n",
      "['9:34:00-123', '09:38:00-127', '09:35:00-124', '09:36:30-120', '09:35:30-122']\n",
      "9:34:00-123\n"
     ]
    },
    {
     "ename": "KeyError",
     "evalue": "'9:34:00-123'",
     "output_type": "error",
     "traceback": [
      "\u001b[0;31m---------------------------------------------------------------------------\u001b[0m",
      "\u001b[0;31mKeyError\u001b[0m                                  Traceback (most recent call last)",
      "\u001b[0;32m<ipython-input-42-bd90d5ab5fe8>\u001b[0m in \u001b[0;36m<module>\u001b[0;34m\u001b[0m\n\u001b[1;32m      7\u001b[0m \u001b[0;32mfor\u001b[0m \u001b[0mi\u001b[0m \u001b[0;32min\u001b[0m \u001b[0mrange\u001b[0m\u001b[0;34m(\u001b[0m\u001b[0;36m1000\u001b[0m\u001b[0;34m)\u001b[0m\u001b[0;34m:\u001b[0m\u001b[0;34m\u001b[0m\u001b[0;34m\u001b[0m\u001b[0m\n\u001b[1;32m      8\u001b[0m     \u001b[0;31m# plot current station\u001b[0m\u001b[0;34m\u001b[0m\u001b[0;34m\u001b[0m\u001b[0;34m\u001b[0m\u001b[0m\n\u001b[0;32m----> 9\u001b[0;31m     \u001b[0mnode1\u001b[0m \u001b[0;34m=\u001b[0m \u001b[0mnode_dict\u001b[0m\u001b[0;34m[\u001b[0m\u001b[0ms1\u001b[0m\u001b[0;34m]\u001b[0m\u001b[0;34m\u001b[0m\u001b[0;34m\u001b[0m\u001b[0m\n\u001b[0m\u001b[1;32m     10\u001b[0m \u001b[0;34m\u001b[0m\u001b[0m\n\u001b[1;32m     11\u001b[0m     \u001b[0mprint\u001b[0m\u001b[0;34m(\u001b[0m\u001b[0mnode1\u001b[0m\u001b[0;34m.\u001b[0m\u001b[0mid\u001b[0m\u001b[0;34m)\u001b[0m\u001b[0;34m\u001b[0m\u001b[0;34m\u001b[0m\u001b[0m\n",
      "\u001b[0;31mKeyError\u001b[0m: '9:34:00-123'"
     ]
    }
   ],
   "source": [
    "# starting station\n",
    "s1 = \"09:33:30-123\"\n",
    "\n",
    "lon_path = []\n",
    "lat_path = []\n",
    "\n",
    "for i in range(1000):\n",
    "    # plot current station\n",
    "    node1 = node_dict[s1]\n",
    "\n",
    "    print(node1.id)\n",
    "    print(node1.neighbors)\n",
    "\n",
    "    lat_path.append(node1.lat)\n",
    "    lon_path.append(node1.lon)\n",
    "\n",
    "    s1 = node1.neighbors[0]\n",
    "\n",
    "    print(s1)\n",
    "    # jump to one neighbor\n",
    "\n",
    "plt.scatter(lon_path,lat_path)\n"
   ]
  },
  {
   "cell_type": "code",
   "execution_count": 44,
   "metadata": {},
   "outputs": [
    {
     "data": {
      "text/plain": [
       "'09:33:30-123'"
      ]
     },
     "execution_count": 44,
     "metadata": {},
     "output_type": "execute_result"
    }
   ],
   "source": [
    "node1.id"
   ]
  },
  {
   "cell_type": "code",
   "execution_count": null,
   "metadata": {},
   "outputs": [],
   "source": []
  }
 ],
 "metadata": {
  "kernelspec": {
   "display_name": "Python 3.7.4 ('base')",
   "language": "python",
   "name": "python3"
  },
  "language_info": {
   "codemirror_mode": {
    "name": "ipython",
    "version": 3
   },
   "file_extension": ".py",
   "mimetype": "text/x-python",
   "name": "python",
   "nbconvert_exporter": "python",
   "pygments_lexer": "ipython3",
   "version": "3.7.4"
  },
  "orig_nbformat": 4,
  "vscode": {
   "interpreter": {
    "hash": "51c1d06e51e3bde794178fd480c4647c4f55d498eabaf0dd5735b49a7b7e60f4"
   }
  }
 },
 "nbformat": 4,
 "nbformat_minor": 2
}
